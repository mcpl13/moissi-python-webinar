{
 "cells": [
  {
   "cell_type": "code",
   "execution_count": 2,
   "metadata": {},
   "outputs": [
    {
     "name": "stdout",
     "output_type": "stream",
     "text": [
      " Volume in drive C is Windows\n",
      " Volume Serial Number is D6F7-407C\n",
      "\n",
      " Directory of C:\\Users\\mcpl1\\Downloads\\cms-workshop\n",
      "\n",
      "06/04/2020  05:58 PM    <DIR>          .\n",
      "06/04/2020  05:58 PM    <DIR>          ..\n",
      "06/02/2020  11:44 AM             5,055 .ipynb\n",
      "06/04/2020  05:58 PM    <DIR>          .ipynb_checkpoints\n",
      "06/04/2020  06:26 PM    <DIR>          data\n",
      "06/02/2020  09:23 AM           241,959 data.zip\n",
      "06/02/2020  11:21 AM             2,633 File Parsing.ipynb\n",
      "06/04/2020  05:56 PM             2,901 file-parsing.ipynb\n",
      "06/04/2020  05:58 PM             2,901 pasta.ipynb\n",
      "06/02/2020  11:01 AM             5,706 Task.ipynb\n",
      "06/02/2020  11:22 AM             2,175 Untitled.ipynb\n",
      "06/02/2020  11:55 AM             3,483 Untitled1.ipynb\n",
      "               8 File(s)        266,813 bytes\n",
      "               4 Dir(s)  128,614,969,344 bytes free\n"
     ]
    }
   ],
   "source": [
    "\n",
    "ls\n"
   ]
  },
  {
   "cell_type": "code",
   "execution_count": 4,
   "metadata": {},
   "outputs": [],
   "source": [
    "import os\n"
   ]
  },
  {
   "cell_type": "code",
   "execution_count": 5,
   "metadata": {},
   "outputs": [
    {
     "name": "stdout",
     "output_type": "stream",
     "text": [
      "data\\data\\sapt.out\n"
     ]
    }
   ],
   "source": [
    "sapt_file = os.path.join('data','data','sapt.out')\n",
    "print(sapt_file)"
   ]
  },
  {
   "cell_type": "code",
   "execution_count": 6,
   "metadata": {},
   "outputs": [],
   "source": [
    "outfile = open(sapt_file,'r')\n",
    "data = outfile.readlines()\n",
    "outfile.close()"
   ]
  },
  {
   "cell_type": "code",
   "execution_count": 7,
   "metadata": {},
   "outputs": [
    {
     "name": "stdout",
     "output_type": "stream",
     "text": [
      "18\n"
     ]
    }
   ],
   "source": [
    "print(len(sapt_file))"
   ]
  },
  {
   "cell_type": "code",
   "execution_count": 33,
   "metadata": {},
   "outputs": [
    {
     "name": "stdout",
     "output_type": "stream",
     "text": [
      "Electrostatics : -2.25850118 kcal/mol\n",
      "Exchange : 2.27730198 kcal/mol\n",
      "Induction : -0.52169330 kcal/mol\n",
      "Dispersion : -0.94466770 kcal/mol\n",
      "Total Energy: -1.4475602000000003 kcal/mol\n"
     ]
    }
   ],
   "source": [
    "for line in data:\n",
    "    if 'Electrostatics    ' in line:\n",
    "        electro = line\n",
    "        words = electro.split()\n",
    "        energy_electro = float(words[3])\n",
    "        print(words[0],\":\",energy_electro,'kcal/mol' ) \n",
    "    if 'Exchange     ' in line:\n",
    "        exchange = line\n",
    "        words = exchange.split()\n",
    "        energy_exchange = float(words[3])\n",
    "        print(words[0],\":\",words[3],'kcal/mol' )\n",
    "    if 'Induction     ' in line:\n",
    "        induction = line\n",
    "        words = induction.split()\n",
    "        energy_induction = float(words[3])\n",
    "        print(words[0],\":\",words[3],'kcal/mol' )\n",
    "    if  'Dispersion     ' in line:\n",
    "        dispersion = line\n",
    "        words = dispersion.split()\n",
    "        energy_dispersion = float(words[3])\n",
    "        print(words[0],\":\",words[3],'kcal/mol' )\n",
    "        energy_total = energy_electro + energy_exchange + energy_induction + energy_dispersion\n",
    "        print('Total Energy:', energy_total, \"kcal/mol\")"
   ]
  },
  {
   "cell_type": "code",
   "execution_count": null,
   "metadata": {},
   "outputs": [],
   "source": []
  }
 ],
 "metadata": {
  "kernelspec": {
   "display_name": "Python 3",
   "language": "python",
   "name": "python3"
  },
  "language_info": {
   "codemirror_mode": {
    "name": "ipython",
    "version": 3
   },
   "file_extension": ".py",
   "mimetype": "text/x-python",
   "name": "python",
   "nbconvert_exporter": "python",
   "pygments_lexer": "ipython3",
   "version": "3.7.6"
  }
 },
 "nbformat": 4,
 "nbformat_minor": 4
}
