{
 "cells": [
  {
   "cell_type": "code",
   "execution_count": 1,
   "metadata": {},
   "outputs": [],
   "source": [
    "##File parsing\n"
   ]
  },
  {
   "cell_type": "code",
   "execution_count": 2,
   "metadata": {},
   "outputs": [
    {
     "name": "stdout",
     "output_type": "stream",
     "text": [
      " Volume in drive C is Windows\n",
      " Volume Serial Number is D6F7-407C\n",
      "\n",
      " Directory of C:\\Users\\mcpl1\\Downloads\\cms-workshop\\data\n",
      "\n",
      "06/02/2020  10:16 AM    <DIR>          .\n",
      "06/02/2020  10:16 AM    <DIR>          ..\n",
      "06/02/2020  10:16 AM    <DIR>          __MACOSX\n",
      "06/02/2020  10:16 AM    <DIR>          data\n",
      "               0 File(s)              0 bytes\n",
      "               4 Dir(s)  129,025,372,160 bytes free\n"
     ]
    }
   ],
   "source": [
    "ls data"
   ]
  },
  {
   "cell_type": "code",
   "execution_count": 3,
   "metadata": {},
   "outputs": [
    {
     "data": {
      "text/plain": [
       "'C:\\\\Users\\\\mcpl1\\\\Downloads\\\\cms-workshop'"
      ]
     },
     "execution_count": 3,
     "metadata": {},
     "output_type": "execute_result"
    }
   ],
   "source": [
    "pwd\n"
   ]
  },
  {
   "cell_type": "code",
   "execution_count": 6,
   "metadata": {},
   "outputs": [
    {
     "name": "stdout",
     "output_type": "stream",
     "text": [
      " Volume in drive C is Windows\n",
      " Volume Serial Number is D6F7-407C\n",
      "\n",
      " Directory of C:\\Users\\mcpl1\\Downloads\\cms-workshop\\data\n",
      "\n",
      "06/02/2020  10:16 AM    <DIR>          .\n",
      "06/02/2020  10:16 AM    <DIR>          ..\n",
      "06/02/2020  10:16 AM    <DIR>          __MACOSX\n",
      "06/02/2020  10:16 AM    <DIR>          data\n",
      "               0 File(s)              0 bytes\n",
      "               4 Dir(s)  129,024,438,272 bytes free\n"
     ]
    }
   ],
   "source": [
    "ls data"
   ]
  },
  {
   "cell_type": "code",
   "execution_count": null,
   "metadata": {},
   "outputs": [],
   "source": []
  },
  {
   "cell_type": "code",
   "execution_count": null,
   "metadata": {},
   "outputs": [],
   "source": []
  }
 ],
 "metadata": {
  "kernelspec": {
   "display_name": "Python 3",
   "language": "python",
   "name": "python3"
  },
  "language_info": {
   "codemirror_mode": {
    "name": "ipython",
    "version": 3
   },
   "file_extension": ".py",
   "mimetype": "text/x-python",
   "name": "python",
   "nbconvert_exporter": "python",
   "pygments_lexer": "ipython3",
   "version": "3.7.6"
  }
 },
 "nbformat": 4,
 "nbformat_minor": 4
}
